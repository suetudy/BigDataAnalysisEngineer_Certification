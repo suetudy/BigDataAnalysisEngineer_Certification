{
  "nbformat": 4,
  "nbformat_minor": 0,
  "metadata": {
    "colab": {
      "provenance": []
    },
    "kernelspec": {
      "name": "python3",
      "display_name": "Python 3"
    },
    "language_info": {
      "name": "python"
    }
  },
  "cells": [
    {
      "cell_type": "markdown",
      "source": [
        "# 1. 데이터 불러오기"
      ],
      "metadata": {
        "id": "86EvAABxDeyQ"
      }
    },
    {
      "cell_type": "markdown",
      "source": [
        "### 1) 라이브러리 임포트 및 설치"
      ],
      "metadata": {
        "id": "hitzk9ZyDh0-"
      }
    },
    {
      "cell_type": "code",
      "execution_count": 1,
      "metadata": {
        "id": "MhxGIJZVDXiU"
      },
      "outputs": [],
      "source": [
        "# scikit-learn\n",
        "import sklearn"
      ]
    },
    {
      "cell_type": "code",
      "source": [
        "# pandas\n",
        "import pandas as pd"
      ],
      "metadata": {
        "id": "WVk2aoSOD5Hh"
      },
      "execution_count": 2,
      "outputs": []
    },
    {
      "cell_type": "code",
      "source": [
        "# numpy\n",
        "import numpy as np"
      ],
      "metadata": {
        "id": "J5WTfsPkD7sj"
      },
      "execution_count": 3,
      "outputs": []
    },
    {
      "cell_type": "code",
      "source": [
        "# seaborn\n",
        "!pip install seaborn\n",
        "import seaborn as sns"
      ],
      "metadata": {
        "id": "7m7kYfAOD_k2"
      },
      "execution_count": 5,
      "outputs": []
    },
    {
      "cell_type": "code",
      "source": [
        "# matplotlib\n",
        "import matplotlib.pyplot as plt"
      ],
      "metadata": {
        "id": "8LIdEKTHEIbZ"
      },
      "execution_count": 6,
      "outputs": []
    },
    {
      "cell_type": "markdown",
      "source": [
        "### 2) 데이터 로드 및 저장"
      ],
      "metadata": {
        "id": "MbV4vRjhEX1o"
      }
    },
    {
      "cell_type": "code",
      "source": [
        "# csv\n",
        "df = pd.read_csv('data.csv')"
      ],
      "metadata": {
        "id": "p1UqY2z-Epuv"
      },
      "execution_count": null,
      "outputs": []
    },
    {
      "cell_type": "code",
      "source": [
        "# json\n",
        "df = pd.read_json('data.csv')"
      ],
      "metadata": {
        "id": "ZXO_Ou68EwrX"
      },
      "execution_count": null,
      "outputs": []
    },
    {
      "cell_type": "markdown",
      "source": [
        "### 3) 데이터 구성 확인 및 다루기"
      ],
      "metadata": {
        "id": "TDYEp1rXE3II"
      }
    },
    {
      "cell_type": "code",
      "source": [
        "# 앞행 n개 확인\n",
        "df.head(n)"
      ],
      "metadata": {
        "id": "rk8a7bn1E59f"
      },
      "execution_count": null,
      "outputs": []
    },
    {
      "cell_type": "code",
      "source": [
        "# 뒷행 n개 확인\n",
        "df.tail(n)"
      ],
      "metadata": {
        "id": "IJLGITSqFKq3"
      },
      "execution_count": null,
      "outputs": []
    },
    {
      "cell_type": "code",
      "source": [
        "# 데이터 프레임 정보 확인\n",
        "df.info()"
      ],
      "metadata": {
        "id": "zfBRVucWFPfF"
      },
      "execution_count": null,
      "outputs": []
    },
    {
      "cell_type": "code",
      "source": [
        "# 데이터 프레임 행, 열 개수 확인\n",
        "df.shape"
      ],
      "metadata": {
        "id": "Km7vBzDcFRUv"
      },
      "execution_count": null,
      "outputs": []
    },
    {
      "cell_type": "code",
      "source": [
        "# 통계 정보 확인\n",
        "df.describe()"
      ],
      "metadata": {
        "id": "yMN6UvA3FRR0"
      },
      "execution_count": null,
      "outputs": []
    },
    {
      "cell_type": "code",
      "source": [
        "# 데이터 프레임 열 이름 확인\n",
        "df.columns"
      ],
      "metadata": {
        "id": "OKpWSx3VFRPF"
      },
      "execution_count": null,
      "outputs": []
    },
    {
      "cell_type": "code",
      "source": [
        "# 범주별 빈도수 확인\n",
        "## normalize = True: 정규화된 값으로 범주별 비율 확인\n",
        "df['열 이름'].value_counts()"
      ],
      "metadata": {
        "id": "QXJnvu2nFRMd"
      },
      "execution_count": null,
      "outputs": []
    },
    {
      "cell_type": "code",
      "source": [
        "# 데이터 프레임의 모든 값들을 넘파이 배열 형태로 확인\n",
        "df.values"
      ],
      "metadata": {
        "id": "mOw1kMBgFRJ3"
      },
      "execution_count": null,
      "outputs": []
    },
    {
      "cell_type": "code",
      "source": [
        "# 데이터 프레임의 인덱스 확인\n",
        "df.index"
      ],
      "metadata": {
        "id": "srlYTjNhFRHf"
      },
      "execution_count": null,
      "outputs": []
    },
    {
      "cell_type": "code",
      "source": [
        "# 각 열의 데이터 타입 확인\n",
        "df.dtypes"
      ],
      "metadata": {
        "id": "JOVPA4-9FRFJ"
      },
      "execution_count": null,
      "outputs": []
    },
    {
      "cell_type": "code",
      "source": [
        "# 원하는 데이터 타입에 해당하는 열만 데이터 프레임 형태로 확인\n",
        "df.select_dtypes(type='object')"
      ],
      "metadata": {
        "id": "uMRpGhGSFRCS"
      },
      "execution_count": null,
      "outputs": []
    },
    {
      "cell_type": "code",
      "source": [
        "# 상관 분석\n",
        "df.corr()"
      ],
      "metadata": {
        "id": "5SIMZB61IZr4"
      },
      "execution_count": null,
      "outputs": []
    },
    {
      "cell_type": "code",
      "source": [
        "# 데이터 합치기\n",
        "df = pd.merge(df_a, df_b, on='합칠 때 사용할 열', how='inner')"
      ],
      "metadata": {
        "id": "4gsNeYMNLBKA"
      },
      "execution_count": null,
      "outputs": []
    },
    {
      "cell_type": "markdown",
      "source": [
        "### 4) 데이터 시각화"
      ],
      "metadata": {
        "id": "NhP2MMP0IkjK"
      }
    },
    {
      "cell_type": "code",
      "source": [
        "import seaborn as sns"
      ],
      "metadata": {
        "id": "htvSTe2Q0bES"
      },
      "execution_count": null,
      "outputs": []
    },
    {
      "cell_type": "code",
      "source": [
        "# countplot\n",
        "sns.countplot(x='열 이름')"
      ],
      "metadata": {
        "id": "gFLwM3br0cvu"
      },
      "execution_count": null,
      "outputs": []
    },
    {
      "cell_type": "code",
      "source": [
        "# jointplot\n",
        "sns.jointplot(x='열 이름1', y='열 이름2', data=df)"
      ],
      "metadata": {
        "id": "pAElT1Tf0e4p"
      },
      "execution_count": null,
      "outputs": []
    },
    {
      "cell_type": "markdown",
      "source": [
        "# 2. 데이터 전처리"
      ],
      "metadata": {
        "id": "Gk6wmEklHdIk"
      }
    },
    {
      "cell_type": "markdown",
      "source": [
        "### 1) 결측치 및 데이터 처리"
      ],
      "metadata": {
        "id": "KkqOOsOsHfvz"
      }
    },
    {
      "cell_type": "code",
      "source": [
        "# 결측치 확인\n",
        "df.isna().sum()"
      ],
      "metadata": {
        "id": "XOMK4uZDFQ_s"
      },
      "execution_count": null,
      "outputs": []
    },
    {
      "cell_type": "code",
      "source": [
        "# 열 삭제\n",
        "df.drop('열 이름',axis=1, inplace=True)"
      ],
      "metadata": {
        "id": "tRiJR7oXFQ89"
      },
      "execution_count": null,
      "outputs": []
    },
    {
      "cell_type": "code",
      "source": [
        "# 결측값 대체\n",
        "df['열 이름'].fillna('바꿀 값', inplace=True)"
      ],
      "metadata": {
        "id": "DA9aMzgmFQ3v"
      },
      "execution_count": null,
      "outputs": []
    },
    {
      "cell_type": "code",
      "source": [
        "# 결측치 특정 값으로 변경\n",
        "## df.replace({'원래 값': '바꿀 값'}, inplace=True)\n",
        "df.replace(np.NaN, '0')"
      ],
      "metadata": {
        "id": "blFAElONFQ6V"
      },
      "execution_count": null,
      "outputs": []
    },
    {
      "cell_type": "code",
      "source": [
        "# 결측값 있는 행 삭제\n",
        "df.dropna(how='any')"
      ],
      "metadata": {
        "id": "z_7firkbFQ1Z"
      },
      "execution_count": null,
      "outputs": []
    },
    {
      "cell_type": "code",
      "source": [
        "# 열 타입 변환\n",
        "df['열 이름'] = df['열 이름'].astype(type='float')"
      ],
      "metadata": {
        "id": "O83fzjG8FQy3"
      },
      "execution_count": null,
      "outputs": []
    },
    {
      "cell_type": "code",
      "source": [
        "# 그룹 집계\n",
        "df.groupby(by=['그룹 기준 열'])['집계 대상 열'].mean()"
      ],
      "metadata": {
        "id": "WI6kHn6tKypd"
      },
      "execution_count": null,
      "outputs": []
    },
    {
      "cell_type": "markdown",
      "source": [
        "### 2) 데이터 인코딩"
      ],
      "metadata": {
        "id": "0LO1hDWYKoeQ"
      }
    },
    {
      "cell_type": "code",
      "source": [
        "# 라벨 인코딩\n",
        "from sklearn.preprocessing import LabelEncoder\n",
        "le = LabelEncoder()\n",
        "df['열 이름'] = le.fit_transform(df['열 이름'])"
      ],
      "metadata": {
        "id": "hrrdYZd_FQwm"
      },
      "execution_count": null,
      "outputs": []
    },
    {
      "cell_type": "code",
      "source": [
        "# 원핫 인코딩\n",
        "df = pd.get_dummies(data=df, columns='열 이름', drop_first=True)"
      ],
      "metadata": {
        "id": "QWwX0BvNFQt9"
      },
      "execution_count": null,
      "outputs": []
    },
    {
      "cell_type": "code",
      "source": [
        "# 원핫 인코딩 - object 타입의 전체 컬럼 대상\n",
        "obj_columns = df.select_dtypes(include='object').columns\n",
        "df_preset = pd.get_dummies(df, columns=obj_columns, drop_first=True)"
      ],
      "metadata": {
        "id": "0lxhxCAyFQrV"
      },
      "execution_count": null,
      "outputs": []
    },
    {
      "cell_type": "markdown",
      "source": [
        "### 3) 데이터 분리"
      ],
      "metadata": {
        "id": "OPQRSUInOmzB"
      }
    },
    {
      "cell_type": "code",
      "source": [
        "# X, y 분리\n",
        "target = 'target_column'\n",
        "X = df.drop(target, axis=1)\n",
        "y = df[target]"
      ],
      "metadata": {
        "id": "jKQ4fTDJFQmT"
      },
      "execution_count": null,
      "outputs": []
    },
    {
      "cell_type": "code",
      "source": [
        "# train, test 데이터셋 분리\n",
        "from sklearn.model_selection import train_test_split\n",
        "X_train, X_test, y_train, y_test = train_test_split(X, y, test_size=0.2, stratify=y, random_state=42)"
      ],
      "metadata": {
        "id": "dSH7B_siMdps"
      },
      "execution_count": null,
      "outputs": []
    },
    {
      "cell_type": "markdown",
      "source": [
        "### 4) 데이터 스케일링"
      ],
      "metadata": {
        "id": "Es7WASjKRN6Y"
      }
    },
    {
      "cell_type": "code",
      "source": [
        "# StandardScaler\n",
        "from sklearn.preprocessing import StandardScaler\n",
        "scaler = StandardScaler()\n",
        "X_train = scaler.fit_transform(X_train) # 데이터 정규분포화\n",
        "X_test = scaler.transform(X_test)       # 데이터 표준"
      ],
      "metadata": {
        "id": "KdYEYy3qMdmk"
      },
      "execution_count": null,
      "outputs": []
    },
    {
      "cell_type": "code",
      "source": [
        "# MinMaxScaler\n",
        "from sklearn.preprocessing import MinMaxScaler\n",
        "scaler = MinMaxScaler()\n",
        "X_train = scaler.fit_transform(X_train)\n",
        "X_test = scaler.transform(X_test)"
      ],
      "metadata": {
        "id": "i01QxdLyMdjz"
      },
      "execution_count": null,
      "outputs": []
    },
    {
      "cell_type": "markdown",
      "source": [
        "# 3. 머신러닝"
      ],
      "metadata": {
        "id": "ALt7K76hR3qC"
      }
    },
    {
      "cell_type": "code",
      "source": [
        "# LogisticRegression - 분류\n",
        "from sklearn.linear_model import LogisticRegression\n",
        "\n",
        "lg = LogisticRgression()\n",
        "lg.fit(X_train, y_train)\n",
        "\n",
        "lg.score(X_test, y_test)"
      ],
      "metadata": {
        "id": "z3HgHqfUMdha"
      },
      "execution_count": null,
      "outputs": []
    },
    {
      "cell_type": "code",
      "source": [
        "# KNN - 분류/회귀\n",
        "from sklearn.neighbors import KNeighborsClassifier  # 분류\n",
        "from sklearn.neighbors import KNeighborsRegressor   # 회귀\n",
        "\n",
        "knn = KNeighborsClassifier(n_neighbors=5)\n",
        "knn.fit(X_train, y_train)\n",
        "\n",
        "knn.score(X_test, y_test)"
      ],
      "metadata": {
        "id": "FFUjnASKMde4"
      },
      "execution_count": null,
      "outputs": []
    },
    {
      "cell_type": "code",
      "source": [
        "# DecisionTree - 분류/회귀\n",
        "from sklearn.tree import DecisionTreeClassifier   # 분류\n",
        "from sklearn.tree import DecisionTreeRegressor    # 회귀\n",
        "\n",
        "dt = DecisionTreeClassifier(max_depth=5, random_state=42)\n",
        "dt.fit(X_train, y_train)\n",
        "\n",
        "dt.score(X_test, y_test)"
      ],
      "metadata": {
        "id": "OUq9vk0MMdcv"
      },
      "execution_count": null,
      "outputs": []
    },
    {
      "cell_type": "code",
      "source": [
        "# RandomForest  - 분류/회귀\n",
        "from sklearn.ensemble import RandomForestClassifier   # 분류\n",
        "from sklearn.ensemble import RandomForestRegressor    # 회\n",
        "\n",
        "rf = RandomForestClassifier(n_estimators=3, random_state=42)\n",
        "rf.fit(X_train, y_train)\n",
        "\n",
        "rf.score(X_test, y_test)"
      ],
      "metadata": {
        "id": "ESXbzIyWMdZ7"
      },
      "execution_count": null,
      "outputs": []
    },
    {
      "cell_type": "code",
      "source": [
        "# XGBoost - 분류/회귀\n",
        "\n",
        "!pip install xgboost\n",
        "\n",
        "from xgboost import XGBClassifier   # 분류\n",
        "from xgboost import XGBRegressor    # 회귀\n",
        "\n",
        "xgb = XGBClassifier(n_estimators=3, random_state=42)\n",
        "xgb.fit(X_train, y_train)\n",
        "\n",
        "xgb.score(X_test, y_test)"
      ],
      "metadata": {
        "id": "xxDIYXVNMdXd"
      },
      "execution_count": null,
      "outputs": []
    },
    {
      "cell_type": "code",
      "source": [
        "# LightGBM - 분류/회귀\n",
        "\n",
        "!pip install lightgbm\n",
        "\n",
        "from lightgbm import LGBMClassifier   # 분류\n",
        "from lightgbm import LGBMegressor     # 회귀\n",
        "\n",
        "lgbm = LGBMClassifier(n_estimators=3, random_state=42)\n",
        "lgbm.fit(X_train, y_train)\n",
        "\n",
        "lgbm.score(X_test, y_test)"
      ],
      "metadata": {
        "id": "i1tJvK-OMdU1"
      },
      "execution_count": null,
      "outputs": []
    },
    {
      "cell_type": "markdown",
      "source": [
        "# 4. 딥러닝"
      ],
      "metadata": {
        "id": "qakMujA8UdGM"
      }
    },
    {
      "cell_type": "code",
      "source": [
        "import tensorflow as tf\n",
        "from temsorflow import keras"
      ],
      "metadata": {
        "id": "ku4gFYVMUHiY"
      },
      "execution_count": null,
      "outputs": []
    },
    {
      "cell_type": "code",
      "source": [
        "from tensorflow.keras.models import Sequential\n",
        "from tensorflow.keras.layers import Dense, Dropout\n",
        "\n",
        "# 1) 모델 생성\n",
        "model = Sequential()\n",
        "\n",
        "# 2) 모델 구조\n",
        "model.add(Dense(64, activation='relu'), input_shape=(X_train.shape[1],))\n",
        "model.add(Dropout(0.2))\n",
        "model.add(Dense(32, activation='relu'))\n",
        "model.add(Dropout(0.2))\n",
        "model.add(Dense(16, activation='relu'))\n",
        "model.add(Dropout(0.2))\n",
        "model.add(Dense(1, activation='sigmoid'))\n",
        "\n",
        "# 모델 요약\n",
        "model.summary()\n",
        "\n",
        "# 3) 모델 컴파일\n",
        "model.compile(optimizer='adam',\n",
        "              loss='binary_crossentropy',   # 회귀: loss='mean_squared_error'\n",
        "              metrics=['accuracy'])\n",
        "\n",
        "# 4) EarlyStopping\n",
        "from tensorflow.keras.callbacks import EarlyStopping\n",
        "es = EarlyStopping(monitor='val_loss', patience=5, mode='min')\n",
        "\n",
        "# 5) ModelCheckpoint\n",
        "from tensorflow.keras.callbacks import ModelCheckpoint\n",
        "mc = ModelCheckpoint('best_model.keras', monitor='val_loss',\n",
        "                     mode='min', verbose=1,\n",
        "                     save_best_only=True)\n",
        "\n",
        "# 6) 모델 학습\n",
        "history = model.fit(X_train, y_train,\n",
        "                    epochs=30,\n",
        "                    batch_size=16,\n",
        "                    validation_data=(X_valid, y_valid),\n",
        "                    callbacks=[es, mc])"
      ],
      "metadata": {
        "id": "4QgZgE4_UHd-"
      },
      "execution_count": null,
      "outputs": []
    },
    {
      "cell_type": "markdown",
      "source": [
        "모델 컴파일 손실함수(loss)\n",
        "\n",
        "- 회귀: 'mean_squared_error'\n",
        "\n",
        "- 이진분류: 'binary_crossentropy'\n",
        "\n",
        "- 다중분류: 'sparse_categorical_crossentropy', 'categorical_crossentropy'\n"
      ],
      "metadata": {
        "id": "SrSSNO2XbI2-"
      }
    },
    {
      "cell_type": "markdown",
      "source": [
        "### 딥러닝 모델 학습 시각화"
      ],
      "metadata": {
        "id": "FvjwDsXOpgVr"
      }
    },
    {
      "cell_type": "code",
      "source": [
        "from matplotlib import pyplot as plt\n",
        "\n",
        "plt.plot(history.history['loss'], label='Train Loss')\n",
        "plt.plot(history.history['val_loss'], label='Validation Loss')\n",
        "plt.xlabel('Epochs')\n",
        "plt.ylabel('Loss')\n",
        "plt.title('Model MSE')\n",
        "plt.legend()\n",
        "plt.show()"
      ],
      "metadata": {
        "id": "TluFzTo7pgIc"
      },
      "execution_count": null,
      "outputs": []
    },
    {
      "cell_type": "markdown",
      "source": [
        "# 5. 모델 성능평가"
      ],
      "metadata": {
        "id": "8SS_hsYWW0eD"
      }
    },
    {
      "cell_type": "markdown",
      "source": [
        "### 예측"
      ],
      "metadata": {
        "id": "Wvpn_1Idn7_v"
      }
    },
    {
      "cell_type": "code",
      "source": [
        "pred = model.predict(X_test)"
      ],
      "metadata": {
        "id": "dww5MGNOn7wC"
      },
      "execution_count": null,
      "outputs": []
    },
    {
      "cell_type": "markdown",
      "source": [
        "### 분류(Classification)"
      ],
      "metadata": {
        "id": "lucR2C2QXB7D"
      }
    },
    {
      "cell_type": "code",
      "source": [
        "# Confusion Matrix\n",
        "from sklearn.metrics import confusion_matrix\n",
        "print(confusion_matrix(y_test, pred))"
      ],
      "metadata": {
        "id": "_jtzuAlgW2Vw"
      },
      "execution_count": null,
      "outputs": []
    },
    {
      "cell_type": "code",
      "source": [
        "# Confusion Matrix Heatmap으로 시각화\n",
        "cf_matrix = confusion_matrix(y_test, y_pred)\n",
        "print(cf_matrix) # 혼동 행렬\n",
        "\n",
        "sns.heatmap(cf_matrix,\n",
        "\t\t\t      annot=True, # 주석\n",
        "            fmt='d') \t# 주석 포맷\n",
        "plt.show()"
      ],
      "metadata": {
        "id": "p2Jk1AC4o3Js"
      },
      "execution_count": null,
      "outputs": []
    },
    {
      "cell_type": "code",
      "source": [
        "# Classification Report\n",
        "from sklearn.metrics import classification_report\n",
        "print(classification_report(y_test, pred))"
      ],
      "metadata": {
        "id": "iV7byDA5XEpU"
      },
      "execution_count": null,
      "outputs": []
    },
    {
      "cell_type": "code",
      "source": [
        "# 분류 모델 평가 지표\n",
        "from sklearn.metrics import accuracy_score \t\t# 정확도\n",
        "from sklearn.metrics import precision_score \t# 정밀도\n",
        "from sklearn.metrics import recall_score \t\t# 재현율\n",
        "from sklearn.metrics import f1_score \t\t\t# f1 score\n",
        "from sklearn.metrics import confusion_matrix \t# 혼동행렬\n",
        "from sklearn.metrics import accuracy_score \t\t# 모든 지표 한번에"
      ],
      "metadata": {
        "id": "CRRIUSCQpCgj"
      },
      "execution_count": null,
      "outputs": []
    },
    {
      "cell_type": "markdown",
      "source": [
        "### 회귀(Regression)"
      ],
      "metadata": {
        "id": "cXZNkdT3XE5u"
      }
    },
    {
      "cell_type": "code",
      "source": [
        "from sklearn.metrics import r2_score\t\t\t# R2 결정계수\n",
        "from sklearn.metrics import mean_squared_error\t# MSE\n",
        "from sklearn.metrics import mean_absolute_error\t# MAE"
      ],
      "metadata": {
        "id": "-gLKd7i0XHAn"
      },
      "execution_count": null,
      "outputs": []
    }
  ]
}