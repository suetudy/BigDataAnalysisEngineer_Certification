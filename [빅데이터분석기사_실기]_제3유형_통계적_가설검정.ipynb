{
  "nbformat": 4,
  "nbformat_minor": 0,
  "metadata": {
    "colab": {
      "provenance": []
    },
    "kernelspec": {
      "name": "python3",
      "display_name": "Python 3"
    },
    "language_info": {
      "name": "python"
    }
  },
  "cells": [
    {
      "cell_type": "markdown",
      "source": [
        "[빅데이터분석기사 실기] 제3유형: 통계적 가설검정"
      ],
      "metadata": {
        "id": "AZpzxspuat83"
      }
    },
    {
      "cell_type": "markdown",
      "source": [
        "# 제3유형 예상 문제\n",
        "\n",
        "1. 모평균 검정: 검정통계량, p-value값, 귀무가설 판단(채택/기각)\n",
        "\n",
        "- 모집단 1개: 단일 표본\n",
        "\n",
        "- 모집단 2개: 대응 표본(쌍체), 독립 표본\n",
        "\n",
        "- 모집단 3개: ANOVA(분산분석) - F검정(일원분산분석)\n",
        "\n",
        "\n",
        "\n",
        "2. 카이제곱검정: 기댓값, 검정통계량, p-value값, 귀무가설 판단(채택/기각)\n",
        "\n",
        "- 적합성 검정\n",
        "\n",
        "- 독립성 검정\n",
        "\n",
        "\n",
        "\n",
        "3. 상관분석: 상관계수, 검정통계량, p-value값, 귀무가설 판단(채택/기각)\n",
        "\n",
        "- 피어슨 상관계수\n",
        "\n",
        "\n",
        "\n",
        "4. 회귀분석: Rsq, odds, ratio, 회귀계수, p-value값\n",
        "\n",
        "- 다중선형회귀\n",
        "\n",
        "- 로지스틱회귀"
      ],
      "metadata": {
        "id": "NzYMDhdNAVTG"
      }
    },
    {
      "cell_type": "markdown",
      "source": [
        "# **가설 검정 순서**\n",
        "\n",
        "① 가설설정(귀무가설/대립가설)\n",
        "\n",
        "② 유의수준(α) 설정: 일반적으로 5%, 0.05\n",
        "\n",
        "③ 귀무가설 하에 검정통계량 계산\n",
        "\n",
        "④ 검정통계량으로 p-value 계산\n",
        "\n",
        "⑤ 귀무가설(H₀) 기각 여부 결정(채택/\n",
        "기각)\n",
        "\n",
        "\n",
        "- **p-value < α : 귀무가설을 기각**\n",
        "\n",
        "- **p-value > α : 귀무가설을 채택**"
      ],
      "metadata": {
        "id": "X6848gnQHAA8"
      }
    },
    {
      "cell_type": "markdown",
      "source": [
        "# 가설 검정 코드 흐름"
      ],
      "metadata": {
        "id": "DTDa5Tj7XQ-j"
      }
    },
    {
      "cell_type": "code",
      "source": [
        "from scipy import stats\n",
        "\n",
        "# 1) 가설 설정\n",
        "# 귀무가설: A그룹과 B그룹이 차이가 없다\n",
        "# 대립가설: A그룹과 B그룹이 차이가 있다\n",
        "A = [23, 25, 28, 30, 32]\n",
        "B = [19, 21, 24, 26, 29]\n",
        "\n",
        "# 2) 유의수준(α) 설정\n",
        "alpha = 0.05\n",
        "\n",
        "# 3) 귀무가설 하에 검정통계량 계산\n",
        "# 4) 검정통계량으로 p-value 계산\n",
        "t_statistic, p_value = stats.ttest_ind(A, B)\n",
        "print(f'검정통계량: {t_statistic}')\n",
        "print(f'p-value: {p_value}')\n",
        "\n",
        "# 5) 귀무가설(H₀) 기각 여부 결정\n",
        "if p_value < alpha:\n",
        "  print('귀무가설 기각')\n",
        "else:\n",
        "  print('귀무가설 채택')"
      ],
      "metadata": {
        "colab": {
          "base_uri": "https://localhost:8080/"
        },
        "id": "XKmDauGVXY5l",
        "outputId": "503a4384-6414-46a3-a051-1f207349eda3"
      },
      "execution_count": null,
      "outputs": [
        {
          "output_type": "stream",
          "name": "stdout",
          "text": [
            "검정통계량: 1.5778641172210597\n",
            "p-value: 0.15324889402868613\n",
            "귀무가설 채택\n"
          ]
        }
      ]
    },
    {
      "cell_type": "code",
      "source": [
        "from scipy import stats"
      ],
      "metadata": {
        "id": "tOefKexTDwgL"
      },
      "execution_count": null,
      "outputs": []
    },
    {
      "cell_type": "markdown",
      "source": [
        "# 1. 모평균 검정"
      ],
      "metadata": {
        "id": "OdhQs9jpDkPy"
      }
    },
    {
      "cell_type": "markdown",
      "source": [
        "### 1) 모집단 1개: 단일표본 t-test"
      ],
      "metadata": {
        "id": "zl1l7KddD1Vy"
      }
    },
    {
      "cell_type": "markdown",
      "source": [
        "- 귀무가설: 모평균 = X\n",
        "\n",
        "- 대립가설: 모평균 ≠ X\n"
      ],
      "metadata": {
        "id": "3FWvhUS3EJNX"
      }
    },
    {
      "cell_type": "code",
      "source": [
        "t_statistic, p_value = stats.ttest_1samp(data, X, alternative='two-sided')"
      ],
      "metadata": {
        "id": "0LUKRnmwD80M"
      },
      "execution_count": null,
      "outputs": []
    },
    {
      "cell_type": "markdown",
      "source": [
        "- 귀무가설: 모평균 ≤ X\n",
        "\n",
        "- 대립가설: 모평균 > X"
      ],
      "metadata": {
        "id": "Cbgahup8FOvo"
      }
    },
    {
      "cell_type": "code",
      "execution_count": null,
      "metadata": {
        "id": "ktLWRp7-ARqV"
      },
      "outputs": [],
      "source": [
        "t_statistic, p_value = stats.ttest_1samp(data, X, alternative='less')"
      ]
    },
    {
      "cell_type": "markdown",
      "source": [
        "- 귀무가설: 모평균 ≥ X\n",
        "\n",
        "- 대립가설: 모평균 < X"
      ],
      "metadata": {
        "id": "ODNU2E1lFaHs"
      }
    },
    {
      "cell_type": "code",
      "source": [
        "t_statistic, p_value = stats.ttest_1samp(data, X, alternative='greater')"
      ],
      "metadata": {
        "id": "tN7SISx8Feid"
      },
      "execution_count": null,
      "outputs": []
    },
    {
      "cell_type": "markdown",
      "source": [
        "### 2-1) 모집단 2개: 대응표본 t-test"
      ],
      "metadata": {
        "id": "fe6y3g4PFePa"
      }
    },
    {
      "cell_type": "markdown",
      "source": [
        "- 귀무가설: before과 after가 차이가 없다.\n",
        "\n",
        "- 대립가설: before과 after가 차이가 있다."
      ],
      "metadata": {
        "id": "NLIiyp3kIUv_"
      }
    },
    {
      "cell_type": "code",
      "source": [
        "t_statistic, p_value = stats.ttest_rel(before, after)"
      ],
      "metadata": {
        "id": "HZWtZP1mKZo5"
      },
      "execution_count": null,
      "outputs": []
    },
    {
      "cell_type": "markdown",
      "source": [
        "### 2-2) 모집단 2개: 독립표본 t-test"
      ],
      "metadata": {
        "id": "gX0GCs_cKNl0"
      }
    },
    {
      "cell_type": "markdown",
      "source": [
        "두 그룹의 데이터가 정규분포를 따를 때\n",
        "\n",
        "- 귀무가설: A그룹과 B그룹이 차이가 없다.\n",
        "\n",
        "- 대립가설: A그룹과 B그룹이 차이가 있다."
      ],
      "metadata": {
        "id": "ZYvd-dERMN5n"
      }
    },
    {
      "cell_type": "code",
      "source": [
        "t_statistic, p_value = stats.ttest_ind(A, B)"
      ],
      "metadata": {
        "id": "4cSaTavEKr4Y"
      },
      "execution_count": null,
      "outputs": []
    },
    {
      "cell_type": "markdown",
      "source": [
        "두 그룹의 데이터가 정규분포를 따르지 않을 때\n",
        "\n",
        "- 귀무가설: A그룹과 B그룹이 차이가 없다.\n",
        "\n",
        "- 대립가설: A그룹과 B그룹이 차이가 있다."
      ],
      "metadata": {
        "id": "DXrEt_O6M76O"
      }
    },
    {
      "cell_type": "code",
      "source": [
        "u_statistic, p_value = stats.meanwhitneyu(A, B)"
      ],
      "metadata": {
        "id": "cAglvVS7M_rx"
      },
      "execution_count": null,
      "outputs": []
    },
    {
      "cell_type": "markdown",
      "source": [
        "### *정규성 검정\n",
        "\n",
        "데이터가 정규분포를 따르는지 확인\n",
        "\n",
        "- 귀무가설: 데이터가 정규분포를 따른다.\n",
        "\n",
        "- 대립가설: 데이터가 정규분포를 따르지 않는다."
      ],
      "metadata": {
        "id": "9bJbGzmpM_VE"
      }
    },
    {
      "cell_type": "code",
      "source": [
        "statistic, p_value = stats.shapiro(data)"
      ],
      "metadata": {
        "id": "SOeQBsInNnIZ"
      },
      "execution_count": null,
      "outputs": []
    },
    {
      "cell_type": "markdown",
      "source": [
        "### 3) 모집단 3개 이상: ANOVA(분산분석) - F검정(일원분산분석)"
      ],
      "metadata": {
        "id": "5knea0b-Fzyj"
      }
    },
    {
      "cell_type": "markdown",
      "source": [
        "- 귀무가설: A, B, C 그룹 간의 평균 차이가 없다.\n",
        "\n",
        "- 대립가설: A, B, C 그룹 간의 평균 차이가 있다."
      ],
      "metadata": {
        "id": "BTdahAL_PtKQ"
      }
    },
    {
      "cell_type": "code",
      "source": [
        "t_statistic, p_value = stats.f_oneway(A, B, C)"
      ],
      "metadata": {
        "id": "EFqx1voCFy_R"
      },
      "execution_count": null,
      "outputs": []
    },
    {
      "cell_type": "markdown",
      "source": [
        "# 2. 카이제곱 검정"
      ],
      "metadata": {
        "id": "iX4APVfwRJ7X"
      }
    },
    {
      "cell_type": "markdown",
      "source": [
        "### 1) 적합성 검정"
      ],
      "metadata": {
        "id": "u1u34WkoSFeW"
      }
    },
    {
      "cell_type": "markdown",
      "source": [
        "- 귀무가설: 관찰값이 기대값과 적합하다.\n",
        "- 대립가설: 관찰값이 기대값과 적합하지 않다."
      ],
      "metadata": {
        "id": "_jAlatmlU9FR"
      }
    },
    {
      "cell_type": "code",
      "source": [
        "observed = [observed_values]\n",
        "expected = [expected_values]\n",
        "chi2_statistic, p_value = stats.chisquare(observed, expected)"
      ],
      "metadata": {
        "id": "qmio8LzOSFOW"
      },
      "execution_count": null,
      "outputs": []
    },
    {
      "cell_type": "markdown",
      "source": [
        "### 2) 독립성 검정\n",
        "\n",
        "두 변수가 독립인지 검정"
      ],
      "metadata": {
        "id": "t_VYDxJNRjuj"
      }
    },
    {
      "cell_type": "markdown",
      "source": [
        "- 귀무가설: 두 변수는 연관성이 없다(독립이다).\n",
        "\n",
        "- 대립가설: 두 변수는 연관성이 있다(독립이 아니다)."
      ],
      "metadata": {
        "id": "7YLKKIjMRnG-"
      }
    },
    {
      "cell_type": "code",
      "source": [
        "contingency_table = [[observed_values_row1], [observed_values_row2]]\n",
        "chi2_statistic, p_value, dof, expected = stats.chi2_contingency(contingency_table)"
      ],
      "metadata": {
        "id": "WplzKuaaRQZT"
      },
      "execution_count": null,
      "outputs": []
    },
    {
      "cell_type": "markdown",
      "source": [
        "### 3) 동질성 검정\n",
        "\n",
        "두 집단의 분포가 동일한지 검정"
      ],
      "metadata": {
        "id": "eOKiI0h7SLoW"
      }
    },
    {
      "cell_type": "markdown",
      "source": [
        "- 귀무가설: 두 집단이 동일한 분포를 가진다.\n",
        "- 대립가설: 두 집단이 동일한 분포를 가지지 않는다."
      ],
      "metadata": {
        "id": "DDnyEuKCVGD0"
      }
    },
    {
      "cell_type": "code",
      "source": [
        "contingency_table = [[observed_values_group1], [observed_values_group2]]\n",
        "chi2_statistic, p_value, dof, expected = stats.chi2_contingency(contingency_table)"
      ],
      "metadata": {
        "id": "-TJo-lJvVIxD"
      },
      "execution_count": null,
      "outputs": []
    },
    {
      "cell_type": "markdown",
      "source": [
        "# 3. 상관분석"
      ],
      "metadata": {
        "id": "SeopJ0t-V3zD"
      }
    },
    {
      "cell_type": "markdown",
      "source": [
        "### 1) 피어슨 상관계수"
      ],
      "metadata": {
        "id": "gDUtCCZ8V7g3"
      }
    },
    {
      "cell_type": "markdown",
      "source": [
        "- 귀무가설: 두 변수 사이에 상관관계가 없다.\n",
        "\n",
        "- 대립가설: 두 변수 사이에 상관관계가 있다."
      ],
      "metadata": {
        "id": "u5j6Tp2HV-6I"
      }
    },
    {
      "cell_type": "code",
      "source": [
        "correlation_coefficient, p_value = stats.pearsonr(variable1, variable2)"
      ],
      "metadata": {
        "id": "kfFqKu5RV5vM"
      },
      "execution_count": null,
      "outputs": []
    },
    {
      "cell_type": "markdown",
      "source": [
        "# 4. 회귀분석"
      ],
      "metadata": {
        "id": "SysN_SV9okv4"
      }
    },
    {
      "cell_type": "markdown",
      "source": [
        "### 1) 선형 회귀"
      ],
      "metadata": {
        "id": "DRk5Wl9lotUQ"
      }
    },
    {
      "cell_type": "markdown",
      "source": [
        "선형 회귀 모형 만들기"
      ],
      "metadata": {
        "id": "zaMRHK_YylBH"
      }
    },
    {
      "cell_type": "code",
      "source": [
        "from statsmodels.formula.api import ols\n",
        "\n",
        "model = ols('y ~ x1', data=train).fit()"
      ],
      "metadata": {
        "id": "o2WT-nhboyoM"
      },
      "execution_count": null,
      "outputs": []
    },
    {
      "cell_type": "markdown",
      "source": [
        "모델 요약 출력"
      ],
      "metadata": {
        "id": "Yef1RI-JzEBm"
      }
    },
    {
      "cell_type": "code",
      "source": [
        "print(model.summary())"
      ],
      "metadata": {
        "id": "hazPrDx9zFhF"
      },
      "execution_count": null,
      "outputs": []
    },
    {
      "cell_type": "markdown",
      "source": [
        "예측"
      ],
      "metadata": {
        "id": "obcfUZ_9zI5n"
      }
    },
    {
      "cell_type": "code",
      "source": [
        "pred = model.predict(test)"
      ],
      "metadata": {
        "id": "DYrw30dmzJ5u"
      },
      "execution_count": null,
      "outputs": []
    },
    {
      "cell_type": "markdown",
      "source": [
        "평가 지표"
      ],
      "metadata": {
        "id": "RoKxMoRFzVwe"
      }
    },
    {
      "cell_type": "code",
      "source": [
        "from sklearn.metrics import mean_squared_error, r2_score\n",
        "\n",
        "mse = mean_squared_error(test['y'], pred)\n",
        "rmse = np.sqrt(mse)\n",
        "r2_score = r2_score(test['y'], pred)"
      ],
      "metadata": {
        "id": "Lrt8zSYDzZbB"
      },
      "execution_count": null,
      "outputs": []
    },
    {
      "cell_type": "markdown",
      "source": [
        "회귀계수"
      ],
      "metadata": {
        "id": "q3jzSxN50JXg"
      }
    },
    {
      "cell_type": "code",
      "source": [
        "coefficients = model.params"
      ],
      "metadata": {
        "id": "9zGc7-rS0JKv"
      },
      "execution_count": null,
      "outputs": []
    },
    {
      "cell_type": "markdown",
      "source": [
        "유의확률(p-value)"
      ],
      "metadata": {
        "id": "IrER-w-80Rrz"
      }
    },
    {
      "cell_type": "code",
      "source": [
        "p_values = model.pvalues"
      ],
      "metadata": {
        "id": "tZ8kNl6R0UmQ"
      },
      "execution_count": null,
      "outputs": []
    },
    {
      "cell_type": "markdown",
      "source": [
        "### 2) 로지스틱 회귀"
      ],
      "metadata": {
        "id": "qHJrBInzo2KM"
      }
    },
    {
      "cell_type": "markdown",
      "source": [
        "로지스틱 회귀 모형 만들기"
      ],
      "metadata": {
        "id": "9pxefXpis0e3"
      }
    },
    {
      "cell_type": "code",
      "source": [
        "from statsmodels.formula.api import logit\n",
        "\n",
        "model = logit('y ~ x1', data=train).fit()"
      ],
      "metadata": {
        "id": "AXcWO9gwooc3"
      },
      "execution_count": null,
      "outputs": []
    },
    {
      "cell_type": "markdown",
      "source": [
        "모델 요약"
      ],
      "metadata": {
        "id": "Pz3iGxBvue3u"
      }
    },
    {
      "cell_type": "code",
      "source": [
        "print(model.summary())"
      ],
      "metadata": {
        "id": "MiqW_8BYugLM"
      },
      "execution_count": null,
      "outputs": []
    },
    {
      "cell_type": "markdown",
      "source": [
        "예측"
      ],
      "metadata": {
        "id": "ECVt8INItAQJ"
      }
    },
    {
      "cell_type": "code",
      "source": [
        "pred = model.predict(X_test)\n",
        "pred_classes = (pred > 0.5).astype(int)"
      ],
      "metadata": {
        "id": "Cb9u1jYstHSN"
      },
      "execution_count": null,
      "outputs": []
    },
    {
      "cell_type": "markdown",
      "source": [
        "오즈비"
      ],
      "metadata": {
        "id": "4zw0TJkbs3kX"
      }
    },
    {
      "cell_type": "code",
      "source": [
        "odds_ratio = np.exp(model.params['x1'])"
      ],
      "metadata": {
        "id": "dOzUiN5Ismr8"
      },
      "execution_count": null,
      "outputs": []
    },
    {
      "cell_type": "markdown",
      "source": [
        "정확도"
      ],
      "metadata": {
        "id": "o111TFg6tP1Y"
      }
    },
    {
      "cell_type": "code",
      "source": [
        "from sklearn.metrics import accuracy_score\n",
        "\n",
        "accuracy = accuracy_score(test['y'], pred_classes)"
      ],
      "metadata": {
        "id": "057AK5j44gmi"
      },
      "execution_count": null,
      "outputs": []
    },
    {
      "cell_type": "code",
      "source": [
        "accuracy = (pred_classes == test['y']).mean()"
      ],
      "metadata": {
        "id": "6kUd30GRumEf"
      },
      "execution_count": null,
      "outputs": []
    },
    {
      "cell_type": "code",
      "source": [
        "# Rsq(McFadden's pseudo R-squared)\n",
        "Rsq = 1 - model.llf / model.llnull"
      ],
      "metadata": {
        "id": "M7MMFROrv1id"
      },
      "execution_count": null,
      "outputs": []
    },
    {
      "cell_type": "markdown",
      "source": [
        "혼동 행렬"
      ],
      "metadata": {
        "id": "xl--Rkid4XvV"
      }
    },
    {
      "cell_type": "code",
      "source": [
        "from sklearn.metrics import confusion_matrix\n",
        "\n",
        "conf_matrix = confusion_matrix(test['y'], pred_classes)"
      ],
      "metadata": {
        "id": "vYVp-47b4ZWG"
      },
      "execution_count": null,
      "outputs": []
    },
    {
      "cell_type": "markdown",
      "source": [
        "로짓 우도"
      ],
      "metadata": {
        "id": "ELpd5_aLu18U"
      }
    },
    {
      "cell_type": "code",
      "source": [
        "log_likelihood = model.llf"
      ],
      "metadata": {
        "id": "kmi8JuuXvBj7"
      },
      "execution_count": null,
      "outputs": []
    },
    {
      "cell_type": "markdown",
      "source": [
        "유의확률(p-value)"
      ],
      "metadata": {
        "id": "UjSHMJGAvD15"
      }
    },
    {
      "cell_type": "code",
      "source": [
        "p_values = model.pvalues['x1']"
      ],
      "metadata": {
        "id": "Bq3U2JmBvGXP"
      },
      "execution_count": null,
      "outputs": []
    },
    {
      "cell_type": "markdown",
      "source": [
        "회귀계수"
      ],
      "metadata": {
        "id": "pI610netwqUQ"
      }
    },
    {
      "cell_type": "code",
      "source": [
        "coefficients = model.params['x1']"
      ],
      "metadata": {
        "id": "qLFAUoxEwrxi"
      },
      "execution_count": null,
      "outputs": []
    }
  ]
}